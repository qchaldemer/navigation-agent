{
 "cells": [
  {
   "cell_type": "markdown",
   "metadata": {},
   "source": [
    "## Introduction\n",
    "In this project, I have trained an agent to navigate (and collect bananas!) in a large, square world.\n",
    "\n",
    "A reward of +1 is provided for collecting a yellow banana, and a reward of -1 is provided for collecting a blue banana. Thus, the goal of the agent is to collect as many yellow bananas as possible while avoiding blue bananas.\n",
    "\n",
    "The state space has 37 dimensions and contains the agent's velocity, along with ray-based perception of objects around agent's forward direction. Given this information, the agent has to learn how to best select actions. Four discrete actions are available, corresponding to:\n",
    "\n",
    "0 - move forward.\n",
    "1 - move backward.\n",
    "2 - turn left.\n",
    "3 - turn right."
   ]
  },
  {
   "cell_type": "markdown",
   "metadata": {},
   "source": [
    "## Learning algoritm\n",
    "\n",
    "- I have used a Deep Q Learning to solve this task with the following hyperparameters:\n",
    "    - eps_start=1.0, eps_end=0.01, eps_decay=0.995\n",
    "- The DQN agent has the following hyperparamters:\n",
    "    - BUFFER_SIZE = int(1e5)  # replay buffer size\n",
    "    - BATCH_SIZE = 64         # minibatch size\n",
    "    - GAMMA = 0.99            # discount factor\n",
    "    - TAU = 1e-3              # for soft update of target parameters\n",
    "    - LR = 5e-4               # learning rate \n",
    "    - UPDATE_EVERY = 4        # how often to update the network\n",
    "- The neural network has the following specificities:\n",
    "    - FC NN with 3 layers of 128, 64 and 4 (action size)\n",
    "    - Two first layers are activated with Relu function"
   ]
  },
  {
   "cell_type": "markdown",
   "metadata": {},
   "source": [
    "### Results\n",
    "\n",
    "- The agent reached an average of 15.02 over 100 episodes"
   ]
  },
  {
   "cell_type": "markdown",
   "metadata": {},
   "source": [
    "<img src=\"files/image.png\">"
   ]
  },
  {
   "cell_type": "markdown",
   "metadata": {},
   "source": [
    "## Areas of improvements\n",
    "\n",
    "Implement a double DQN, a dueling DQN, and prioritized experience to improve the agent"
   ]
  },
  {
   "cell_type": "code",
   "execution_count": null,
   "metadata": {},
   "outputs": [],
   "source": []
  }
 ],
 "metadata": {
  "kernelspec": {
   "display_name": "Python 3",
   "language": "python",
   "name": "python3"
  }
 },
 "nbformat": 4,
 "nbformat_minor": 2
}
